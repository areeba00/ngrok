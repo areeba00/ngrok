{
  "nbformat": 4,
  "nbformat_minor": 0,
  "metadata": {
    "colab": {
      "provenance": [],
      "authorship_tag": "ABX9TyMGbo8OyUAQsnPCC4anthdu",
      "include_colab_link": true
    },
    "kernelspec": {
      "name": "python3",
      "display_name": "Python 3"
    },
    "language_info": {
      "name": "python"
    }
  },
  "cells": [
    {
      "cell_type": "markdown",
      "metadata": {
        "id": "view-in-github",
        "colab_type": "text"
      },
      "source": [
        "<a href=\"https://colab.research.google.com/github/areeba00/ngrok/blob/main/Untitled3.ipynb\" target=\"_parent\"><img src=\"https://colab.research.google.com/assets/colab-badge.svg\" alt=\"Open In Colab\"/></a>"
      ]
    },
    {
      "cell_type": "code",
      "source": [
        "!pip install flask"
      ],
      "metadata": {
        "colab": {
          "base_uri": "https://localhost:8080/"
        },
        "id": "Li5-qVOHePDp",
        "outputId": "e56aab75-73cf-4eb4-9ef7-ac4983b7c837"
      },
      "execution_count": null,
      "outputs": [
        {
          "output_type": "stream",
          "name": "stdout",
          "text": [
            "Looking in indexes: https://pypi.org/simple, https://us-python.pkg.dev/colab-wheels/public/simple/\n",
            "Requirement already satisfied: flask in /usr/local/lib/python3.10/dist-packages (2.2.4)\n",
            "Requirement already satisfied: Werkzeug>=2.2.2 in /usr/local/lib/python3.10/dist-packages (from flask) (2.3.0)\n",
            "Requirement already satisfied: Jinja2>=3.0 in /usr/local/lib/python3.10/dist-packages (from flask) (3.1.2)\n",
            "Requirement already satisfied: itsdangerous>=2.0 in /usr/local/lib/python3.10/dist-packages (from flask) (2.1.2)\n",
            "Requirement already satisfied: click>=8.0 in /usr/local/lib/python3.10/dist-packages (from flask) (8.1.3)\n",
            "Requirement already satisfied: MarkupSafe>=2.0 in /usr/local/lib/python3.10/dist-packages (from Jinja2>=3.0->flask) (2.1.2)\n"
          ]
        }
      ]
    },
    {
      "cell_type": "code",
      "source": [
        "from flask import Flask\n",
        "\n",
        "app = Flask(__name__)\n",
        "\n",
        "@app.route('/')\n",
        "def hello():\n",
        "    return 'Hello World!'"
      ],
      "metadata": {
        "id": "iYs61u__eOzX"
      },
      "execution_count": null,
      "outputs": []
    },
    {
      "cell_type": "code",
      "source": [
        "!wget https://bin.equinox.io/c/4VmDzA7iaHb/ngrok-stable-linux-amd64.zip\n",
        "!unzip ngrok-stable-linux-amd64.zip"
      ],
      "metadata": {
        "colab": {
          "base_uri": "https://localhost:8080/"
        },
        "id": "MsdWhjobenIx",
        "outputId": "cc09de22-88e5-4265-af47-36d1f8b03f48"
      },
      "execution_count": 28,
      "outputs": [
        {
          "output_type": "stream",
          "name": "stdout",
          "text": [
            "--2023-05-11 17:07:23--  https://bin.equinox.io/c/4VmDzA7iaHb/ngrok-stable-linux-amd64.zip\n",
            "Resolving bin.equinox.io (bin.equinox.io)... 52.202.168.65, 54.161.241.46, 54.237.133.81, ...\n",
            "Connecting to bin.equinox.io (bin.equinox.io)|52.202.168.65|:443... connected.\n",
            "HTTP request sent, awaiting response... 200 OK\n",
            "Length: 13921656 (13M) [application/octet-stream]\n",
            "Saving to: ‘ngrok-stable-linux-amd64.zip’\n",
            "\n",
            "ngrok-stable-linux- 100%[===================>]  13.28M  6.22MB/s    in 2.1s    \n",
            "\n",
            "2023-05-11 17:07:26 (6.22 MB/s) - ‘ngrok-stable-linux-amd64.zip’ saved [13921656/13921656]\n",
            "\n",
            "Archive:  ngrok-stable-linux-amd64.zip\n",
            "  inflating: ngrok                   \n"
          ]
        }
      ]
    },
    {
      "cell_type": "code",
      "source": [
        "import os\n",
        "os.environ['PATH'] += \":/content/ngrok\""
      ],
      "metadata": {
        "id": "h5POfeP-vWl_"
      },
      "execution_count": 29,
      "outputs": []
    },
    {
      "cell_type": "code",
      "source": [
        "!echo $PATH"
      ],
      "metadata": {
        "colab": {
          "base_uri": "https://localhost:8080/"
        },
        "id": "d6fmIGK8xLHX",
        "outputId": "195cb7b3-889a-4981-bdb0-50d78a87df67"
      },
      "execution_count": 30,
      "outputs": [
        {
          "output_type": "stream",
          "name": "stdout",
          "text": [
            "/opt/bin:/usr/local/nvidia/bin:/usr/local/cuda/bin:/usr/local/sbin:/usr/local/bin:/usr/sbin:/usr/bin:/sbin:/bin:/tools/node/bin:/tools/google-cloud-sdk/bin:/content/ngrok:/content/ngrok:/content/ngrok:/content/ngrok\n"
          ]
        }
      ]
    },
    {
      "cell_type": "code",
      "source": [
        "get_ipython().system_raw('python3 -m http.server 8070 &')"
      ],
      "metadata": {
        "id": "nVS8fVDc3jkK"
      },
      "execution_count": 36,
      "outputs": []
    },
    {
      "cell_type": "code",
      "source": [
        "get_ipython().system_raw('./ngrok http 8070 &')"
      ],
      "metadata": {
        "id": "lJmJWKcA3omQ"
      },
      "execution_count": 37,
      "outputs": []
    },
    {
      "cell_type": "code",
      "source": [
        "import requests\n",
        "r = requests.get('http://localhost:4040/api/tunnels')"
      ],
      "metadata": {
        "id": "oMjHjzWr3u0Y"
      },
      "execution_count": 38,
      "outputs": []
    },
    {
      "cell_type": "code",
      "source": [
        "url = r.json()['tunnels'][0]['public_url']"
      ],
      "metadata": {
        "id": "VRTIxorE30lV"
      },
      "execution_count": 39,
      "outputs": []
    },
    {
      "cell_type": "code",
      "source": [
        "!chmod +x /content/ngrok"
      ],
      "metadata": {
        "id": "C3LZZB_rwkui"
      },
      "execution_count": 31,
      "outputs": []
    },
    {
      "cell_type": "code",
      "source": [
        "!ngrok http 5000\n"
      ],
      "metadata": {
        "colab": {
          "base_uri": "https://localhost:8080/"
        },
        "id": "0yEpGrd8vbNt",
        "outputId": "05e37788-a49c-41c0-d8f6-79ce04b44cc1"
      },
      "execution_count": 40,
      "outputs": [
        {
          "output_type": "stream",
          "name": "stdout",
          "text": [
            "/bin/bash: ngrok: command not found\n"
          ]
        }
      ]
    },
    {
      "cell_type": "code",
      "source": [
        "!ps -aux | grep ngrok"
      ],
      "metadata": {
        "colab": {
          "base_uri": "https://localhost:8080/"
        },
        "id": "UR9a4a9im-C_",
        "outputId": "d40e5b2b-8238-4420-977d-e21f8931a975"
      },
      "execution_count": 33,
      "outputs": [
        {
          "output_type": "stream",
          "name": "stdout",
          "text": [
            "root       22478  0.0  0.0   6904  3144 ?        S    17:08   0:00 /bin/bash -c ps -aux | grep ngrok\n",
            "root       22480  0.0  0.0   6444   648 ?        S    17:08   0:00 grep ngrok\n"
          ]
        }
      ]
    },
    {
      "cell_type": "code",
      "execution_count": null,
      "metadata": {
        "id": "fek-PMxqd9lc"
      },
      "outputs": [],
      "source": [
        "import os\n",
        "import string\n",
        "\n",
        "# Define the path to the directory containing the input files\n",
        "input_dir = '/content/CVs'\n",
        "\n",
        "# Define the path to the directory where the cleaned files will be saved\n",
        "output_dir = '/content/CVs'\n",
        "\n",
        "# Define a function to clean the text\n",
        "def clean_text(text):\n",
        "    # Remove newlines and spaces\n",
        "    text = text.replace('\\n', ' ')\n",
        "    # Remove special characters\n",
        "    special_chars = string.punctuation.replace('.', '').replace('@','')\n",
        "    text = text.translate(str.maketrans('', '', special_chars))\n",
        "    # Remove consecutive spaces\n",
        "    text = ' '.join(text.split())\n",
        "    return text\n",
        "\n",
        "# Loop over the files in the input directory\n",
        "for filename in os.listdir(input_dir):\n",
        "    # Check that the file is a text file\n",
        "    if filename.endswith('.txt'):\n",
        "        # Open the file for reading\n",
        "        with open(os.path.join(input_dir, filename), 'r+') as file:\n",
        "            # Read the contents of the file\n",
        "            text = file.read()\n",
        "            # Clean the text\n",
        "            cleaned_text = clean_text(text)\n",
        "            file.seek(0)\n",
        "            # Rewrite the cleaned text to the file\n",
        "            file.write(cleaned_text)\n",
        "            # Truncate any remaining text\n",
        "            file.truncate()"
      ]
    },
    {
      "cell_type": "code",
      "source": [
        "import zipfile\n",
        "import os\n",
        "\n",
        "# Define the directory path to be zipped\n",
        "dir_path = '/content/CVs'\n",
        "\n",
        "# Define the name and path of the zip file to be created\n",
        "zip_file_path = '/content/CVs.zip'\n",
        "\n",
        "# Create a ZipFile object to write to the zip file\n",
        "with zipfile.ZipFile(zip_file_path, 'w', zipfile.ZIP_DEFLATED) as zipf:\n",
        "    # Loop through all the files in the directory\n",
        "    for root, dirs, files in os.walk(dir_path):\n",
        "        for file in files:\n",
        "            # Get the full path of the file\n",
        "            file_path = os.path.join(root, file)\n",
        "            # Add the file to the zip archive\n",
        "            zipf.write(file_path)"
      ],
      "metadata": {
        "id": "OdxuWI7reGA9"
      },
      "execution_count": null,
      "outputs": []
    }
  ]
}